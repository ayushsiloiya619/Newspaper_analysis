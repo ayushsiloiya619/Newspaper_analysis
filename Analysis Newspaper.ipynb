{
 "cells": [
  {
   "cell_type": "code",
   "execution_count": 1,
   "id": "b6d936aa",
   "metadata": {},
   "outputs": [],
   "source": [
    "import requests\n",
    "from bs4 import BeautifulSoup\n",
    "import numpy as np \n",
    "import pandas as pd \n",
    "import seaborn as sns\n",
    "import matplotlib.pyplot as plt\n",
    "%matplotlib inline\n",
    "import random\n",
    "import os"
   ]
  },
  {
   "cell_type": "code",
   "execution_count": 2,
   "id": "e0e477a3",
   "metadata": {},
   "outputs": [],
   "source": [
    "r=requests.get('https://timesofindia.indiatimes.com/india/india-coronavirus-outbreak-live-updates-covid-19-cases-in-india-today-coronavirus-guidelines-restrictions-tests-omicron-bf-7-variant-latest-news-covid-deaths-23-dec/liveblog/96439098.cms')"
   ]
  },
  {
   "cell_type": "code",
   "execution_count": 3,
   "id": "fbb9c26e",
   "metadata": {},
   "outputs": [],
   "source": [
    "r.encoding = 'utf-8'"
   ]
  },
  {
   "cell_type": "code",
   "execution_count": 4,
   "id": "691906f9",
   "metadata": {},
   "outputs": [],
   "source": [
    "html = r.text"
   ]
  },
  {
   "cell_type": "code",
   "execution_count": 5,
   "id": "0dbe073b",
   "metadata": {},
   "outputs": [
    {
     "name": "stdout",
     "output_type": "stream",
     "text": [
      "<!doctype html><html class=\"no-js\" lang=\"en\"><head><meta charSet=\"utf-8\"/><meta http-equiv=\"x-ua-compatible\" content=\"ie=edge\"/><meta name=\"viewport\" content=\"width=device-width, initial-scale=1\"/><title>India Covid Cases Today | Coronavirus News Live Updates: Govt clears nasal vaccine for Covid-19 booster dose, to be available first in private hospitals</title><meta name=\"description\" content=\"Covid BF 7 Variant live updates: Govt of India has approves intra-nasal Covid vaccine Incovacc for tho\n"
     ]
    }
   ],
   "source": [
    "print(html[:500])"
   ]
  },
  {
   "cell_type": "code",
   "execution_count": 6,
   "id": "1324f8a7",
   "metadata": {},
   "outputs": [],
   "source": [
    "soup = BeautifulSoup(html)\n",
    "text = soup.get_text()"
   ]
  },
  {
   "cell_type": "code",
   "execution_count": 7,
   "id": "c0d111be",
   "metadata": {},
   "outputs": [
    {
     "data": {
      "text/plain": [
       "13512"
      ]
     },
     "execution_count": 7,
     "metadata": {},
     "output_type": "execute_result"
    }
   ],
   "source": [
    "len(text)"
   ]
  },
  {
   "cell_type": "code",
   "execution_count": 8,
   "id": "29de589b",
   "metadata": {},
   "outputs": [
    {
     "name": "stdout",
     "output_type": "stream",
     "text": [
      "ter dose, to be available first in private hospitals EditionININUSSign InTOIindiaCoronavirus Outbreakopinions and featuresTimes EvokeMaharashtraDelhiKarnatakaTamil NaduTelanganaUttar PradeshWest BengalGujaratMadhya PradeshBiharChandigarhRajasthanArunachal PradeshAndhra PradeshAssamChhattisgarhGoaHaryanaHimachal PradeshJammu KashmirJharkhandKeralaManipurMeghalayaMizoramNagalandOdishaPunjabSikkimTripuraUttarakhandAndaman Nicobar IslandsDadra Nagar HaveliDaman DiuLakshadweepPondicherryTop SearchesCovid 19 PrecautionsCoronavirus Live UpdatesBF.7 Covid VariantBF 7 Variant in IndiaBharat Jodo YatraParliament Winter Session 2022Covid 19 Review MeetingTawang ClashNewsIndia NewsCoronavirus Live Updates: Govt clears nasal vaccine for booster dose, to be available first in private hospitalsCoronavirus Live Updates: Govt clears nasal vaccine for booster dose, to be available first in private hospitalsCommentaryTHE TIMES OF INDIA | Dec 23, 2022, 11:53:21 ISTLIVE NOWCoronavirus Live Updates: Govt cl\n"
     ]
    }
   ],
   "source": [
    "print(text[100:1100])"
   ]
  },
  {
   "cell_type": "code",
   "execution_count": 9,
   "id": "984821b6",
   "metadata": {},
   "outputs": [],
   "source": [
    "clean_text= text.replace(\"n\", \" \")\n",
    "clean_text= clean_text.replace(\"/\", \" \")       \n",
    "clean_text= ''.join([c for c in clean_text if c != \"'\"])"
   ]
  },
  {
   "cell_type": "code",
   "execution_count": 10,
   "id": "50caed4c",
   "metadata": {},
   "outputs": [
    {
     "data": {
      "text/plain": [
       "'I dia Covid Cases Today | Coro avirus News Live Updates: Govt clears  asal vacci e for Covid-19 booster dose, to be available first i  private hospitals Editio ININUSSig  I TOIi diaCoro avirus Outbreakopi io s a d featuresTimes EvokeMaharashtraDelhiKar atakaTamil NaduTela ga aUttar PradeshWest Be galGujaratMadhya PradeshBiharCha digarhRajastha Aru achal PradeshA dhra PradeshAssamChhattisgarhGoaHarya aHimachal PradeshJammu KashmirJharkha dKeralaMa ipurMeghalayaMizoramNagala dOdishaPu jabSikkimTripuraUttarakha dA dama  Nicobar Isla dsDadra Nagar HaveliDama  DiuLakshadweepPo dicherryTop SearchesCovid 19 Precautio sCoro avirus Live UpdatesBF.7 Covid Varia tBF 7 Varia t i  I diaBharat Jodo YatraParliame t Wi ter Sessio  2022Covid 19 Review Meeti gTawa g ClashNewsI dia NewsCoro avirus Live Updates: Govt clears  asal vacci e for booster dose, to be available first i  private hospitalsCoro avirus Live Updates: Govt clears  asal vacci e for booster dose, to be available first i  private hospitalsComme taryTHE TIMES OF INDIA | Dec 23, 2022, 11:53:21 ISTLIVE NOWCoro avirus Live Updates: Govt clears  asal vacci e for booster dose, to be available first i  private hospitalsCovid BF 7 Varia t live updates: Govt of I dia has approves i tra- asal Covid vacci e I covacc for those 18 years a d above. It will be used as a heterologous booster & will be available first i  private hospitals. It will be i cluded i  COVID19 vacci atio  program from today, said fficial sources. Stay with TOI for the latest developme tsRead Less11:53 (IST) Dec 23What is Bharat Biotechs i tra- asal Covid-19 vacci e I covaccREAD FULL STORY11:11 (IST) Dec 23I covacc ca  be admi istered to those above 18 years as a booster dose11:01 (IST) Dec 23Bharat Biotechs  asal vacci e to be part of booster dose, available o  CoWIN app from today10:55 (IST) Dec 23Govt clears  asal Covid vacci e, to be admi istered from todayGovt of I dia approves Nasal vacci e. It will be used as a heterologous booster & will be available first i  private hospitals. It will be i cluded i  Covid-19 vacci atio  program from today: Official Sources10:34 (IST) Dec 23Cou try fully prepared to deal with coro avirus situatio : Sci diaThe cou try is fully prepared to deal with the coro avirus situatio , U io  mi ister Jyotiraditya Sci dia o  Friday. He also expressed co fide ce that the cou try will achieve u iversal healthcare coverage.Accordi g to the mi ister, medici es have become more affordable a d the out-of-pocket expe diture for medici es has come dow .09:57 (IST) Dec 23163  ew coro avirus i fectio s i  I dia i  last 24 hoursDeath toll sta ds at 5,30,690 with  i e more fatalities.09:43 (IST) Dec 23IMA advises people to avoid public gatheri gs, i ter atio al travel amid fresh Covid scareThe I dia  Medical Associatio  (IMA) has advised people to avoid public gatheri gs such as weddi g ceremo ies, political or social meeti gs as well as i ter atio al travel amid a risi g  umber of COVID-19 cases i  some cou tries, i cludi g Chi a.I  a  advisory issued o  Thursday, the IMA also appealed to people to go for vacci atio  agai st the viral disease, i cludi g taki g the precautio  dose, a d follow Covid-appropriate behaviour such as usi g masks at public places a d followi g social-dista ci g  orms.09:32 (IST) Dec 23BF.7 varia t of coro avirus  ot worrisome for I dia, assures se ior scie tistAllayi g fears about BF.7 varia t of coro avirus, a promi e t scie tist o  Friday said it is a sub-varia t of Omicro  strai  a d that I dia  eed  ot worry too much about its severity o  the populatio . Rakesh Mishra, Director, Tata I stitute for Ge etics a d Society (TIGS), Ba galore, however cautio ed that weari g face masks a d avoidi g u  ecessary crowds is always advisable. Chi a has bee  wit essi g a  u precede ted surge i  COVID-19 cases as the  eighbouri g cou try has  ot passed through differe t waves of the i fectio  that I dia had faced, he further said.READ FULL STORY08:47 (IST) Dec 23Ma daviya to hold virtual meeti g with state health mi isters today o  Covid-19U io  health mi ister Dr Ma sukh Ma daviya will hold a virtual meeti g with State health mi isters o  the Covid-19 situatio  a d prepared ess at 3 pm today, accordi g to sources. Ma daviya made a suo motu stateme t i  the Rajya Sabha o  Thursday o  I dias prepared ess to curb the spread of the viral i fectio .He said the situatio  is bei g co sta tly mo itored. The mi ister also said while there are  o direct flights betwee  Chi a a d I dia, people from the  eighbouri g cou try arrive here via other routes.The focus is to e sure that  o  ew varia t of the virus e ters the cou try, he said, addi g that at the same time, there is  o impedime t to travelli g.08:45 (IST) Dec 23Bio tech Covid vacci es for Germa   atio als i  Chi a have arrived at the Germa  embassy i  Beiji g08:30 (IST) Dec 23Chi a reports zero Covid deaths i  last 24 hours08:10 (IST) Dec 23Chi a authorities take over medical supplies productio  as Covid surgesChi a has requisitio ed medical supplies productio  across the cou try as millio s struggle to obtai  basic drugs a d testi g kits i  the face of a surge i  Covid-19 cases.Pharmacies i  major cities have bee  stripped bare i  the wake of the Chi ese gover me ts sudde  decisio  to lift years of lockdow s, quara ti es a d mass testi g. To address  atio wide shortages, more tha  a doze  Chi ese pharmaceutical firms have bee  tapped by officials to help \"secure supplies\" of key drugs -- a euphemism for requisitio i g. At least 11 of 42 test kit makers whose products are lice sed by Chi as medical regulators have had part of their productio  seized by the gover me t or received orders from the state, local reports said.READ FULL STORY07:48 (IST) Dec 23Elderly Covid patie ts fill hospital wards i  Chi as major citiesElderly patie ts li ed the wards of hospitals i  major cities i  Chi a Thursday as the cou try battled a wave of Covid cases. The virus is surgi g across the vast Asia   atio  i  a  outbreak authorities say is impossible to track after the e d of ma datory mass testi g. A d with cases soari g, Washi gto  called o  Beiji g to share its Covid outbreak data, sayi g Chi as caseload impacts the world.07:22 (IST) Dec 23Kar ataka to hold meet to assess Covid-19 prepared essSpeaki g o  Covid-19 prepared ess of Kar ataka, amid fear of a possible fourth outbreak i  the cou try, state health mi ister K Sudhakar Rao o  Thursday said a  emerge cy meeti g has bee  called u der the chairma ship of chief mi ister Basavraj Bommai to discuss the states prepared ess. Sayi g the Kar ataka gover me t will be adheri g to the i structio s of the Ce tral advisoty i  this regard, he said, \"Prime Mi ister Nare dra Modi has called a meeti g with all health officials a d tech ical committee members. Based o  their directio s, our gover me t will also follow all their recomme datio s a d guideli es.\"07:09 (IST) Dec 23Tourists scree ed at Taj, other sites amid Covid scareAmid the reported spurt i  Covid-19 cases i  Chi a a d some other cou tries, the health departme t i  Agra has started scree i g visitors at the Taj Mahal a d other mo ume ts i  the district. All visitors will have to u dergo primary health scree i g a d check-up, authorities have  ow said. O  Thursday, samples of 200 tourists, i cludi g foreig ers, were collected for lab testi g at the east a d west gates of the Taj Mahal. Chief medical officer of Agra district, Dr Aru  Kumar Srivastava, said, “Thousa ds visit Taj Mahal every day. To preve t the spread of Covid-19, two teams have bee  deployed at the e try gates of the mo ume t to scree  tourists. Those with high body temperature or other Covid-19 symptoms will u dergo o the-spot a tige  testi g. ”06:56 (IST) Dec 23Bli ke  raises co cer s over Chi as Covid surgeUrgi g Chi a to share i formatio  o  its Covid outbreak, he said, \"We wa t to see Chi a get this outbreak (of Covid19) u der co trol...Its also importa t for all cou tries i cludi g Chi a to vacci ate their people, make testi g a d treatme t available a d share i fo with the world about what they are experie ci g.\"06:50 (IST) Dec 23Chi a reports zero  ew Covid deaths for December 22, same as a day earlierChi a reported  o  ew Covid-19 deaths for December 22, compared with zero the previous day, the Natio al Health Commissio  said o  Friday. The cou try reported 3,761  ew symptomatic Covid-19 i fectio s o  Dec. 22 , compared with 3,030 a day earlier. Excludi g imported i fectio s, Chi a reported 3,696  ew local cases, up from 2,966 a day earlier. Severe cases rose by 42 across Chi a o  Wed esday, versus a  i crease of 45 the previous day. Chi a does  ot provide absolute figures of severe cases.06:00 (IST) Dec 23Thermal scree i g for all i ter atio al travellers from tomorrow: GovtAll i ter atio al travellers arrivi g i  I dia will have to u dergo thermal scree i g at the airports from Saturday. If a y passe ger is fou d to be symptomatic for Covid-19, she or he will be immediately isolated a d take  to a desig ated medical facility as per the health protocol, the health mi istry said i  its latest guideli es o  Thursday. Chi a, Japa , South Korea, Brazil, the US, a d Fra ce are wit essi g a sustai ed i crease i  Covid-19i fectio s.The guideli es says all travellers should preferably be vacci ated as per the approved primary schedule ofvacci atio  agai st Covid-19 i  their respective cou tries. Duri g travel, the guideli es ma date, i -flight a  ou ceme t about precautio ary measures should be followed (use of masks a d physical dista ci g).READ FULL STORY05:53 (IST) Dec 23Before Chi a spike, BF.7 fou d i  91  atio s for up to 2 yearsBF. 7, the varia t curre tly drivi g Chi a’s Covid surge, is appare tly a k ow  irrita t that has bee  i  circulatio  for  early two years, albeit sparsely a d without causi g much damage. Accordi g to data released by the Scripps Research I stitute, 91 cou tries have had a varia t matchi g the ge etic make-up a d mutatio  profile of BF. 7 si ce February 2021. It was fi ally  amed BF. 7 (also BA. 5. 2. 1. 7) a d added to the BA. 5 Omicro  li eage i  May 2022, said a  INSACOG scie tist. Virologists, epidemiologists a d i fectious diseases experts TOI spoke to said they could ’t make se se of the re ewed alarm over BF. 7 give  the fact that the varia t’s prevale ce i  seque ced samples had remai ed 0. 5% worldwide. The varia t has bee  see  i  o ly 47,881 seque ced patie t samples worldwide si ce it was ide tified o  February 26 last year, a  INSACOG official said.READ FULL STORY05:52 (IST) Dec 23Hospitals issue advisory: Mask up, follow Covid-appropriate behaviourI  view of the spurt i  coro avirus cases globally a d to preve t a fresh outbreak of the disease, AIIMS a d other hospitals i  the city have issued a  advisory for their employees to rei force Covid-appropriate behaviour. They have also bee  asked to e courage patie ts a d their atte da ts to follow suit.Dr Sa jeev Lalwa i, AIIMS medical superi te de t, issued a  office memora dum stati g that preve tive measures, such as usi g masks a d washi g of ha ds with soap or sa itiser, should be take . It added that gatheri gs of five or more people at a y place i  the offices or ca tee s should be avoided a d strict disi fectio  protocols should be followed as per guideli es.3 More UpdatesSee More UpdatesTop Stories Right NowLive: Govt OKs Bharat Biotechs  asal vacci e, to be part of booster dose from t...Whe  a Mumbai cop caught ‘Biki i Killer’ Sobhraj i  GoaFour years o , is I dias biggest terrorism case goi g  owhere?More Latest NewsQuick Li ksRussia Ukrai e War LiveMaharashtra Live NewsCoro avirus Live UpdatesParliame t Wi ter Sessio  2022About usCreate Your Ow  AdTerms of Use a d Grieva ce Redressal Policy Privacy policyAdvertise with usRSSNewsletterFeedbackePaperSitemapArchivesFOLLOW US ONOther Times Group News SitesThe Eco omic TimesHi di Eco omic TimesNavbharat TimesMaharashtra TimesVijaya Kar atakaTelugu SamayamTamil SamayamMalayalam SamayamEi SamayI am GujaratTimesPoi tsI diatimesBra d CapitalEducatio  TimesTimes FoodMiss KyraMumbai MirrorBa galore MirrorPopular CategoriesHeadli esSports NewsBusi ess NewsI dia NewsWorld NewsBollywood NewsHealth & Fit ess TipsI dia  TV ShowsCelebrity PhotosHot o  the WebCirkus ReviewI dia  Rupees I  Stro gerRam Chara Ja hvi KapoorShah Rukh Kha  DaughterDeepika Paduko eShah Rukh Kha Celebs LookHo ey RoseKaree a KapoorTop Tre dsCoro avirus Live UpdatesCovid 19 Precautio sI d vs Ba  Test Live ScoreBF.7 Covid Varia tCovid 19 Review Meeti gCBSE Date Sheet 2023Kuldeep YadavRussia Ukrai e War News LiveI digo Wi ter SaleTawa g ClashBF 7 Varia t i  I diaJEE Aadva ced 2023Parliame t Wi ter Sessio  2022Bharat Jodo YatraBomb Cyclo eU io  Budget 2023Horoscope TodayCryptocurre cy Price i  I diaTre di g TopicsRelatio ships TipsSama tha & KajolSree LeelaPare ti g TipsPare ti g TipsPrachi DesaiZodiac Sig sTollywood ActressesMou i RoyShriya Sara Namrata MallaChristmas Dri kChristmas Traditio sRashami DesaiGauahar Kha I dia  Desti atio Vivo Y55sLaptops u der 30000WiFi RoutersTablets u der 15000Livi g a d e tertai me tiDivaMe sXP.comFemi aETimesGraziaZoomTravel Desti atio sBombay TimesCricbuzz.comFilmfareO li e So gsTVLifestyleLo gwalks AppNewspaper Subscriptio Food NewsTimes PrimeWhats HotServicesCoupo Du iaMagicbricksTechGigTimesJobsBollywood NewsTimes MobileGadgets NowCareersColombiaCopyright © 2022 Be  ett, Colema  & Co. Ltd. All rights reserved. For repri t rights: Times Sy dicatio  Service'"
      ]
     },
     "execution_count": 10,
     "metadata": {},
     "output_type": "execute_result"
    }
   ],
   "source": [
    "clean_text"
   ]
  },
  {
   "cell_type": "code",
   "execution_count": 11,
   "id": "73652a18",
   "metadata": {},
   "outputs": [
    {
     "name": "stderr",
     "output_type": "stream",
     "text": [
      "\n",
      "[notice] A new release of pip available: 22.3 -> 22.3.1\n",
      "[notice] To update, run: python.exe -m pip install --upgrade pip\n"
     ]
    },
    {
     "name": "stdout",
     "output_type": "stream",
     "text": [
      "Collecting spacy\n",
      "  Using cached spacy-3.4.4-cp310-cp310-win_amd64.whl (11.9 MB)\n",
      "Requirement already satisfied: setuptools in c:\\users\\ayush siloiya\\appdata\\local\\programs\\python\\python310\\lib\\site-packages (from spacy) (63.2.0)\n",
      "Collecting tqdm<5.0.0,>=4.38.0\n",
      "  Using cached tqdm-4.64.1-py2.py3-none-any.whl (78 kB)\n",
      "Collecting langcodes<4.0.0,>=3.2.0\n",
      "  Using cached langcodes-3.3.0-py3-none-any.whl (181 kB)\n",
      "Collecting wasabi<1.1.0,>=0.9.1\n",
      "  Using cached wasabi-0.10.1-py3-none-any.whl (26 kB)\n",
      "Requirement already satisfied: packaging>=20.0 in c:\\users\\ayush siloiya\\appdata\\local\\programs\\python\\python310\\lib\\site-packages (from spacy) (21.3)\n",
      "Collecting spacy-legacy<3.1.0,>=3.0.10\n",
      "  Using cached spacy_legacy-3.0.10-py2.py3-none-any.whl (21 kB)\n",
      "Collecting typer<0.8.0,>=0.3.0\n",
      "  Using cached typer-0.7.0-py3-none-any.whl (38 kB)\n",
      "Requirement already satisfied: jinja2 in c:\\users\\ayush siloiya\\appdata\\local\\programs\\python\\python310\\lib\\site-packages (from spacy) (3.0.3)\n",
      "Requirement already satisfied: requests<3.0.0,>=2.13.0 in c:\\users\\ayush siloiya\\appdata\\local\\programs\\python\\python310\\lib\\site-packages (from spacy) (2.27.1)\n",
      "Collecting pydantic!=1.8,!=1.8.1,<1.11.0,>=1.7.4\n",
      "  Using cached pydantic-1.10.2-cp310-cp310-win_amd64.whl (2.1 MB)\n",
      "Collecting srsly<3.0.0,>=2.4.3\n",
      "  Using cached srsly-2.4.5-cp310-cp310-win_amd64.whl (479 kB)\n",
      "Collecting cymem<2.1.0,>=2.0.2\n",
      "  Using cached cymem-2.0.7-cp310-cp310-win_amd64.whl (29 kB)\n",
      "Collecting preshed<3.1.0,>=3.0.2\n",
      "  Using cached preshed-3.0.8-cp310-cp310-win_amd64.whl (94 kB)\n",
      "Collecting murmurhash<1.1.0,>=0.28.0\n",
      "  Using cached murmurhash-1.0.9-cp310-cp310-win_amd64.whl (18 kB)\n",
      "Collecting thinc<8.2.0,>=8.1.0\n",
      "  Using cached thinc-8.1.6-cp310-cp310-win_amd64.whl (1.3 MB)\n",
      "Collecting smart-open<7.0.0,>=5.2.1\n",
      "  Using cached smart_open-6.3.0-py3-none-any.whl (56 kB)\n",
      "Requirement already satisfied: numpy>=1.15.0 in c:\\users\\ayush siloiya\\appdata\\local\\programs\\python\\python310\\lib\\site-packages (from spacy) (1.22.1)\n",
      "Collecting catalogue<2.1.0,>=2.0.6\n",
      "  Using cached catalogue-2.0.8-py3-none-any.whl (17 kB)\n",
      "Collecting spacy-loggers<2.0.0,>=1.0.0\n",
      "  Using cached spacy_loggers-1.0.4-py3-none-any.whl (11 kB)\n",
      "Collecting pathy>=0.3.5\n",
      "  Using cached pathy-0.10.1-py3-none-any.whl (48 kB)\n",
      "Requirement already satisfied: pyparsing!=3.0.5,>=2.0.2 in c:\\users\\ayush siloiya\\appdata\\local\\programs\\python\\python310\\lib\\site-packages (from packaging>=20.0->spacy) (3.0.7)\n",
      "Collecting typing-extensions>=4.1.0\n",
      "  Using cached typing_extensions-4.4.0-py3-none-any.whl (26 kB)\n",
      "Requirement already satisfied: idna<4,>=2.5 in c:\\users\\ayush siloiya\\appdata\\local\\programs\\python\\python310\\lib\\site-packages (from requests<3.0.0,>=2.13.0->spacy) (3.3)\n",
      "Requirement already satisfied: charset-normalizer~=2.0.0 in c:\\users\\ayush siloiya\\appdata\\local\\programs\\python\\python310\\lib\\site-packages (from requests<3.0.0,>=2.13.0->spacy) (2.0.10)\n",
      "Requirement already satisfied: certifi>=2017.4.17 in c:\\users\\ayush siloiya\\appdata\\local\\programs\\python\\python310\\lib\\site-packages (from requests<3.0.0,>=2.13.0->spacy) (2021.10.8)\n",
      "Requirement already satisfied: urllib3<1.27,>=1.21.1 in c:\\users\\ayush siloiya\\appdata\\local\\programs\\python\\python310\\lib\\site-packages (from requests<3.0.0,>=2.13.0->spacy) (1.26.8)\n",
      "Collecting confection<1.0.0,>=0.0.1\n",
      "  Downloading confection-0.0.3-py3-none-any.whl (32 kB)\n",
      "Collecting blis<0.8.0,>=0.7.8\n",
      "  Using cached blis-0.7.9-cp310-cp310-win_amd64.whl (7.0 MB)\n",
      "Requirement already satisfied: colorama in c:\\users\\ayush siloiya\\appdata\\local\\programs\\python\\python310\\lib\\site-packages (from tqdm<5.0.0,>=4.38.0->spacy) (0.4.4)\n",
      "Collecting click<9.0.0,>=7.1.1\n",
      "  Using cached click-8.1.3-py3-none-any.whl (96 kB)\n",
      "Requirement already satisfied: MarkupSafe>=2.0 in c:\\users\\ayush siloiya\\appdata\\local\\programs\\python\\python310\\lib\\site-packages (from jinja2->spacy) (2.1.0)\n",
      "Installing collected packages: wasabi, cymem, typing-extensions, tqdm, spacy-loggers, spacy-legacy, smart-open, murmurhash, langcodes, click, catalogue, blis, typer, srsly, pydantic, preshed, pathy, confection, thinc, spacy\n",
      "Successfully installed blis-0.7.9 catalogue-2.0.8 click-8.1.3 confection-0.0.3 cymem-2.0.7 langcodes-3.3.0 murmurhash-1.0.9 pathy-0.10.1 preshed-3.0.8 pydantic-1.10.2 smart-open-6.3.0 spacy-3.4.4 spacy-legacy-3.0.10 spacy-loggers-1.0.4 srsly-2.4.5 thinc-8.1.6 tqdm-4.64.1 typer-0.7.0 typing-extensions-4.4.0 wasabi-0.10.1\n"
     ]
    },
    {
     "ename": "OSError",
     "evalue": "[E050] Can't find model 'en_core_web_sm'. It doesn't seem to be a Python package or a valid path to a data directory.",
     "output_type": "error",
     "traceback": [
      "\u001b[1;31m---------------------------------------------------------------------------\u001b[0m",
      "\u001b[1;31mOSError\u001b[0m                                   Traceback (most recent call last)",
      "Input \u001b[1;32mIn [11]\u001b[0m, in \u001b[0;36m<cell line: 3>\u001b[1;34m()\u001b[0m\n\u001b[0;32m      1\u001b[0m get_ipython()\u001b[38;5;241m.\u001b[39msystem(\u001b[38;5;124m'\u001b[39m\u001b[38;5;124mpip install spacy\u001b[39m\u001b[38;5;124m'\u001b[39m)\n\u001b[0;32m      2\u001b[0m \u001b[38;5;28;01mimport\u001b[39;00m \u001b[38;5;21;01mspacy\u001b[39;00m\n\u001b[1;32m----> 3\u001b[0m nlp \u001b[38;5;241m=\u001b[39m \u001b[43mspacy\u001b[49m\u001b[38;5;241;43m.\u001b[39;49m\u001b[43mload\u001b[49m\u001b[43m(\u001b[49m\u001b[38;5;124;43m'\u001b[39;49m\u001b[38;5;124;43men_core_web_sm\u001b[39;49m\u001b[38;5;124;43m'\u001b[39;49m\u001b[43m)\u001b[49m\n\u001b[0;32m      4\u001b[0m sentence\u001b[38;5;241m=\u001b[39m[]\n\u001b[0;32m      5\u001b[0m tokens \u001b[38;5;241m=\u001b[39m nlp(clean_text)\n",
      "File \u001b[1;32m~\\AppData\\Local\\Programs\\Python\\Python310\\lib\\site-packages\\spacy\\__init__.py:54\u001b[0m, in \u001b[0;36mload\u001b[1;34m(name, vocab, disable, enable, exclude, config)\u001b[0m\n\u001b[0;32m     30\u001b[0m \u001b[38;5;28;01mdef\u001b[39;00m \u001b[38;5;21mload\u001b[39m(\n\u001b[0;32m     31\u001b[0m     name: Union[\u001b[38;5;28mstr\u001b[39m, Path],\n\u001b[0;32m     32\u001b[0m     \u001b[38;5;241m*\u001b[39m,\n\u001b[1;32m   (...)\u001b[0m\n\u001b[0;32m     37\u001b[0m     config: Union[Dict[\u001b[38;5;28mstr\u001b[39m, Any], Config] \u001b[38;5;241m=\u001b[39m util\u001b[38;5;241m.\u001b[39mSimpleFrozenDict(),\n\u001b[0;32m     38\u001b[0m ) \u001b[38;5;241m-\u001b[39m\u001b[38;5;241m>\u001b[39m Language:\n\u001b[0;32m     39\u001b[0m     \u001b[38;5;124;03m\"\"\"Load a spaCy model from an installed package or a local path.\u001b[39;00m\n\u001b[0;32m     40\u001b[0m \n\u001b[0;32m     41\u001b[0m \u001b[38;5;124;03m    name (str): Package name or model path.\u001b[39;00m\n\u001b[1;32m   (...)\u001b[0m\n\u001b[0;32m     52\u001b[0m \u001b[38;5;124;03m    RETURNS (Language): The loaded nlp object.\u001b[39;00m\n\u001b[0;32m     53\u001b[0m \u001b[38;5;124;03m    \"\"\"\u001b[39;00m\n\u001b[1;32m---> 54\u001b[0m     \u001b[38;5;28;01mreturn\u001b[39;00m \u001b[43mutil\u001b[49m\u001b[38;5;241;43m.\u001b[39;49m\u001b[43mload_model\u001b[49m\u001b[43m(\u001b[49m\n\u001b[0;32m     55\u001b[0m \u001b[43m        \u001b[49m\u001b[43mname\u001b[49m\u001b[43m,\u001b[49m\n\u001b[0;32m     56\u001b[0m \u001b[43m        \u001b[49m\u001b[43mvocab\u001b[49m\u001b[38;5;241;43m=\u001b[39;49m\u001b[43mvocab\u001b[49m\u001b[43m,\u001b[49m\n\u001b[0;32m     57\u001b[0m \u001b[43m        \u001b[49m\u001b[43mdisable\u001b[49m\u001b[38;5;241;43m=\u001b[39;49m\u001b[43mdisable\u001b[49m\u001b[43m,\u001b[49m\n\u001b[0;32m     58\u001b[0m \u001b[43m        \u001b[49m\u001b[43menable\u001b[49m\u001b[38;5;241;43m=\u001b[39;49m\u001b[43menable\u001b[49m\u001b[43m,\u001b[49m\n\u001b[0;32m     59\u001b[0m \u001b[43m        \u001b[49m\u001b[43mexclude\u001b[49m\u001b[38;5;241;43m=\u001b[39;49m\u001b[43mexclude\u001b[49m\u001b[43m,\u001b[49m\n\u001b[0;32m     60\u001b[0m \u001b[43m        \u001b[49m\u001b[43mconfig\u001b[49m\u001b[38;5;241;43m=\u001b[39;49m\u001b[43mconfig\u001b[49m\u001b[43m,\u001b[49m\n\u001b[0;32m     61\u001b[0m \u001b[43m    \u001b[49m\u001b[43m)\u001b[49m\n",
      "File \u001b[1;32m~\\AppData\\Local\\Programs\\Python\\Python310\\lib\\site-packages\\spacy\\util.py:439\u001b[0m, in \u001b[0;36mload_model\u001b[1;34m(name, vocab, disable, enable, exclude, config)\u001b[0m\n\u001b[0;32m    437\u001b[0m \u001b[38;5;28;01mif\u001b[39;00m name \u001b[38;5;129;01min\u001b[39;00m OLD_MODEL_SHORTCUTS:\n\u001b[0;32m    438\u001b[0m     \u001b[38;5;28;01mraise\u001b[39;00m \u001b[38;5;167;01mIOError\u001b[39;00m(Errors\u001b[38;5;241m.\u001b[39mE941\u001b[38;5;241m.\u001b[39mformat(name\u001b[38;5;241m=\u001b[39mname, full\u001b[38;5;241m=\u001b[39mOLD_MODEL_SHORTCUTS[name]))  \u001b[38;5;66;03m# type: ignore[index]\u001b[39;00m\n\u001b[1;32m--> 439\u001b[0m \u001b[38;5;28;01mraise\u001b[39;00m \u001b[38;5;167;01mIOError\u001b[39;00m(Errors\u001b[38;5;241m.\u001b[39mE050\u001b[38;5;241m.\u001b[39mformat(name\u001b[38;5;241m=\u001b[39mname))\n",
      "\u001b[1;31mOSError\u001b[0m: [E050] Can't find model 'en_core_web_sm'. It doesn't seem to be a Python package or a valid path to a data directory."
     ]
    }
   ],
   "source": [
    "!pip install spacy\n",
    "import spacy\n",
    "nlp = spacy.load('en_core_web_sm')\n",
    "sentence=[]\n",
    "tokens = nlp(clean_text)\n",
    "for sent in tokens.sents:\n",
    "    sentence.append((sent.text.strip()))"
   ]
  }
 ],
 "metadata": {
  "kernelspec": {
   "display_name": "Python 3 (ipykernel)",
   "language": "python",
   "name": "python3"
  },
  "language_info": {
   "codemirror_mode": {
    "name": "ipython",
    "version": 3
   },
   "file_extension": ".py",
   "mimetype": "text/x-python",
   "name": "python",
   "nbconvert_exporter": "python",
   "pygments_lexer": "ipython3",
   "version": "3.10.8"
  }
 },
 "nbformat": 4,
 "nbformat_minor": 5
}
